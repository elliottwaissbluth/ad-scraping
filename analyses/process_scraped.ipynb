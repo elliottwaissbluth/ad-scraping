{
 "cells": [
  {
   "cell_type": "markdown",
   "metadata": {},
   "source": [
    "### Goals for this system:\n",
    "- Extract the advertisement links from each scrape in the scrapes.db database\n",
    "- For each link, gather underlying HTML and use it to find the name of the advertiser\n",
    "- Put the extracted properties (i.e. meta og:title for name) into a new table row, where each row:\n",
    "    - Links back to the particular scrape the data was gathered from\n",
    "    - Includes the extracted properties\n",
    "    - Includes the name of the site advertised on (taken from ads table)\n",
    "\n",
    "Concisely, each table row will include the following columns:\n",
    "- id (int): primary key ID corresponding to a single link\n",
    "- scrape_id (int): ID that can be matched with ID in scrapes.db\n",
    "- link (str): the link being investigated\n",
    "- \\<extracted properties\\>\n",
    "\n",
    "The system will operate in the following macro steps:\n",
    "1. When unread rows are present in the ads table, gather the data in each row\n",
    "2. For each gathered link in the ads row, scrape the HTML using OpenWPM\n",
    "3. From the HTML gathered in that scrape, gather important properties\n",
    "4. Put the extracted properties into a new table row, one for each link"
   ]
  },
  {
   "cell_type": "code",
   "execution_count": null,
   "metadata": {},
   "outputs": [],
   "source": []
  }
 ],
 "metadata": {
  "language_info": {
   "name": "python"
  },
  "orig_nbformat": 4
 },
 "nbformat": 4,
 "nbformat_minor": 2
}
